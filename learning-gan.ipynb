{
 "cells": [
  {
   "cell_type": "markdown",
   "metadata": {},
   "source": [
    "# Learning `Deep Convolutional GAN`"
   ]
  },
  {
   "cell_type": "code",
   "execution_count": 1,
   "metadata": {},
   "outputs": [],
   "source": [
    "%matplotlib inline\n",
    "\n",
    "import os\n",
    "import sys\n",
    "import datetime as dt\n",
    "\n",
    "import numpy as np\n",
    "import tensorflow as tf\n",
    "import matplotlib.pyplot as plt\n",
    "\n",
    "from dataset import ImageDataset"
   ]
  },
  {
   "cell_type": "code",
   "execution_count": 2,
   "metadata": {},
   "outputs": [],
   "source": [
    "data_dir = 'datasets/flowers'\n",
    "save_file = 'saved/data/flowers ({0}x{0}x{1}).pkl'"
   ]
  },
  {
   "cell_type": "code",
   "execution_count": 3,
   "metadata": {
    "scrolled": false
   },
   "outputs": [
    {
     "name": "stdout",
     "output_type": "stream",
     "text": [
      "Processing 5 of 5 class labels & 799 of 799 images"
     ]
    }
   ],
   "source": [
    "data = ImageDataset(data_dir=data_dir, size=25, flatten=True, grayscale=True)\n",
    "\n",
    "if not os.path.isfile(save_file.format(data.size, data.channel)):\n",
    "    data.create()\n",
    "    data.save(save_file.format(data.size, data.channel), force=True)\n",
    "else:\n",
    "    data = data.load(save_file.format(data.size, data.channel))"
   ]
  },
  {
   "cell_type": "code",
   "execution_count": 4,
   "metadata": {},
   "outputs": [
    {
     "name": "stdout",
     "output_type": "stream",
     "text": [
      "(3670, 625) 1\n"
     ]
    }
   ],
   "source": [
    "X_train, y_train, X_test, y_test = data.train_test_split(test_size=0.1)"
   ]
  },
  {
   "cell_type": "code",
   "execution_count": 5,
   "metadata": {},
   "outputs": [
    {
     "name": "stdout",
     "output_type": "stream",
     "text": [
      "X_train.shape = (3303, 625)\n",
      "X_test.shape = (367, 625)\n",
      "y_train.shape = (3303, 5)\n",
      "y_test.shape = (367, 5)\n"
     ]
    }
   ],
   "source": [
    "print(f'X_train.shape = {X_train.shape}')\n",
    "print(f'X_test.shape = {X_test.shape}')\n",
    "print(f'y_train.shape = {y_train.shape}')\n",
    "print(f'y_test.shape = {y_test.shape}')"
   ]
  },
  {
   "cell_type": "markdown",
   "metadata": {},
   "source": [
    "### Helper function tot plot images and labels"
   ]
  },
  {
   "cell_type": "code",
   "execution_count": 12,
   "metadata": {},
   "outputs": [],
   "source": [
    "# Helper function to plot images and labels.\n",
    "def imshow(images, labels, pred=None, **kwargs):\n",
    "    \n",
    "    # images => shape: [batch_size, img_size, img_size, img_channel]\n",
    "    \n",
    "    # Keyword arguments.\n",
    "    smooth = kwargs.get('smooth', True)\n",
    "    \n",
    "    # Image dimensions.\n",
    "    img_shape = images.shape\n",
    "    img_size = img_shape[1]\n",
    "    img_channel = img_shape[-1] if len(img_shape) > 3 else 1\n",
    "    img_batch = img_shape[0]\n",
    "    \n",
    "    # Log number of images to be shown.\n",
    "    print(f'Showing {img_batch:,} images')\n",
    "    \n",
    "    # Create figure with sub-plots.\n",
    "    fig, axes = plt.subplots(4, 4)\n",
    "\n",
    "    # Adjust vertical spacing if we need to print ensemble and best-net.\n",
    "    wspace, hspace = 0.2, 0.8 if pred is not None else 0.4\n",
    "    fig.subplots_adjust(hspace=hspace, wspace=wspace)\n",
    "\n",
    "    for i, ax in enumerate(axes.flat):\n",
    "        try:\n",
    "            # cmap type.\n",
    "            cmap = 'Greys' if img_channel == 1 else None\n",
    "\n",
    "            # Interpolation type.\n",
    "            smooth = 'spline16' if smooth else 'nearest'\n",
    "\n",
    "            # Reshape image based on channel.\n",
    "            if img_channel == 1:\n",
    "                img = np.reshape(images[i], newshape=(img_size, img_size))\n",
    "            else:\n",
    "                img = np.transpose(images[i], (1, 2, 0))\n",
    "\n",
    "            # Plot image.\n",
    "            ax.imshow(img, interpolation=smooth, cmap=cmap)\n",
    "\n",
    "            # Name of the true class.\n",
    "            labels_name = data.classes[np.argmax(labels[i])]\n",
    "\n",
    "            # Show true and predicted classes.\n",
    "            if pred is None:\n",
    "                xlabel = f'True: {labels_name}'\n",
    "            else:\n",
    "                # Name of the predicted class.\n",
    "                pred_name = data.classes[np.argmax(pred[i])]\n",
    "\n",
    "                xlabel = f'True: {labels_name}\\nPred: {pred_name}'\n",
    "\n",
    "            # Show the classes as the label on the x-axis.\n",
    "            ax.set_xlabel(xlabel)\n",
    "\n",
    "            # Remove ticks from the plot.\n",
    "            ax.set_xticks([])\n",
    "            ax.set_yticks([])\n",
    "        except IndexError:\n",
    "            break\n",
    "    \n",
    "    # Ensure the plot is shown correctly with multiple plots\n",
    "    # in a single Notebook cell.\n",
    "    plt.show()"
   ]
  },
  {
   "cell_type": "code",
   "execution_count": 13,
   "metadata": {},
   "outputs": [
    {
     "name": "stdout",
     "output_type": "stream",
     "text": [
      "Showing 2 images\n"
     ]
    },
    {
     "data": {
      "image/png": "[encoded data removed]",
      "text/plain": [
       "<matplotlib.figure.Figure at 0x11a232da0>"
      ]
     },
     "metadata": {},
     "output_type": "display_data"
    }
   ],
   "source": [
    "img = np.reshape(X_test[:2], newshape=[-1, data.size, data.size, data.channel])\n",
    "labels = y_test[:2]\n",
    "imshow(img, labels)"
   ]
  },
  {
   "cell_type": "markdown",
   "metadata": {},
   "source": [
    "### Plot a random image"
   ]
  },
  {
   "cell_type": "code",
   "execution_count": null,
   "metadata": {},
   "outputs": [],
   "source": []
  },
  {
   "cell_type": "code",
   "execution_count": 9,
   "metadata": {},
   "outputs": [
    {
     "data": {
      "text/plain": [
       "(5,)"
      ]
     },
     "execution_count": 9,
     "metadata": {},
     "output_type": "execute_result"
    }
   ],
   "source": [
    "y_test[0].shape"
   ]
  },
  {
   "cell_type": "code",
   "execution_count": 5,
   "metadata": {},
   "outputs": [
    {
     "data": {
      "image/png": "[encoded data removed]",
      "text/plain": [
       "<matplotlib.figure.Figure at 0x1120c0f98>"
      ]
     },
     "metadata": {},
     "output_type": "display_data"
    }
   ],
   "source": [
    "# Take random image sample.\n",
    "\n",
    "\n",
    "for b in range(batch_size):\n",
    "    idx = np.random.randint(0, len(y_test))\n",
    "    img = X_test[idx]\n",
    "    label = y_test[idx]\n",
    "    \n",
    "    sample_image.append([])\n",
    "    \n",
    "sample_image = [(X_test[i], y_test) for _ in range(batch_size)]\n",
    "\n",
    "# Reshape it.\n",
    "sample_image = sample_image.reshape([data.size, data.size])\n",
    "\n",
    "# Plot the image.\n",
    "plt.imshow(sample_image, cmap='gray')\n",
    "plt.show()"
   ]
  },
  {
   "cell_type": "markdown",
   "metadata": {},
   "source": [
    "## Hyperparams"
   ]
  },
  {
   "cell_type": "code",
   "execution_count": 6,
   "metadata": {},
   "outputs": [],
   "source": [
    "# Inputs.\n",
    "img_size = data.size\n",
    "img_channel = data.channel\n",
    "img_size_flat = img_size * img_size * img_channel\n",
    "\n",
    "# Network.\n",
    "conv_filter = 5\n",
    "deconv_filter = 3\n",
    "strides = [1, 2, 2, 1]\n",
    "conv_1 = 16\n",
    "conv_2 = 32\n",
    "fc_1_size = 1024\n",
    "fc_2_size = 1\n",
    "\n",
    "# Training.\n",
    "learning_rate = 1e-3\n",
    "batch_size = 24\n",
    "iterations = 10_000\n",
    "save_interval = 50\n",
    "viz_interval = 200"
   ]
  },
  {
   "cell_type": "markdown",
   "metadata": {},
   "source": [
    "## Building the Network"
   ]
  },
  {
   "cell_type": "markdown",
   "metadata": {},
   "source": [
    "### Helper functions"
   ]
  },
  {
   "cell_type": "code",
   "execution_count": 7,
   "metadata": {},
   "outputs": [],
   "source": [
    "# Weight initializer\n",
    "def weight(shape, layer_name):\n",
    "    return tf.get_variable(layer_name, shape, initializer=tf.truncated_normal_initializer(stddev=0.2))\n",
    "\n",
    "# Bias initializer\n",
    "def bias(shape, layer_name):\n",
    "    return tf.get_variable(layer_name, [shape], initializer=tf.constant_initializer(0))\n",
    "\n",
    "# Convolutional block\n",
    "def conv_block(layer, W, b):\n",
    "    layer = tf.nn.conv2d(layer, W, strides=[1, 1, 1, 1], padding='SAME')\n",
    "    layer = layer + b  # add bias\n",
    "    layer = tf.nn.relu(layer)\n",
    "    layer = tf.nn.max_pool(layer, ksize=[1, 2, 2, 1], strides=[1, 2, 2, 1], padding='SAME')\n",
    "    return layer\n",
    "\n",
    "# Deconvolutional block\n",
    "def deconv_block(layer, W, b, activation_fn=tf.nn.relu, batch_norm=None):\n",
    "    layer = tf.nn.conv2d(layer, W, strides=[1, 2, 2, 1], padding='SAME')\n",
    "    layer = layer + b\n",
    "    if batch_norm:\n",
    "        layer = tf.contrib.layers.batch_norm(layer, epsilon=1e-5, scope=batch_norm)\n",
    "    layer = activation_fn(layer)\n",
    "    return layer\n",
    "\n",
    "# Fully connected layer\n",
    "def fully_connected(layer, W, b, use_relu=True):\n",
    "    layer = tf.matmul(layer, W) + b\n",
    "    if use_relu:\n",
    "        layer = tf.nn.relu(layer)\n",
    "    return layer\n",
    "\n",
    "# Flatten layer\n",
    "def flatten(layer):\n",
    "    shape = layer.get_shape()\n",
    "    features = np.array(shape[1:4], dtype=np.int32).prod()\n",
    "    flattened = tf.reshape(layer, [-1, features])\n",
    "    return flattened, features"
   ]
  },
  {
   "cell_type": "markdown",
   "metadata": {},
   "source": [
    "### Discriminator `(Deep Convolutional neural net)`"
   ]
  },
  {
   "cell_type": "code",
   "execution_count": 8,
   "metadata": {},
   "outputs": [],
   "source": [
    "def discriminator(image, reuse=None):\n",
    "    with tf.variable_scope(tf.get_variable_scope(), reuse=reuse) as scope:\n",
    "        # 1st convolutional block\n",
    "        d_conv_W1 = weight(shape=[conv_filter, conv_filter, img_channel, conv_1], layer_name='d_conv_W1')\n",
    "        d_conv_b1 = bias(shape=conv_1, layer_name='d_conv_b1')\n",
    "        d_conv_1 = conv_block(image, d_conv_W1, d_conv_b1)\n",
    "        # 2nd convolutional block\n",
    "        d_conv_W2 = weight(shape=[conv_filter, conv_filter, conv_1, conv_2], layer_name='d_conv_W2')\n",
    "        d_conv_b2 = bias(shape=conv_2, layer_name='d_conv_b2')\n",
    "        d_conv_2 = conv_block(d_conv_1, d_conv_W2, d_conv_b2)\n",
    "        # Flatten layer\n",
    "        flattened, features = flatten(d_conv_2)\n",
    "        # 1st Fully connected layer\n",
    "        d_fc_W1 = weight(shape=[features, fc_1_size], layer_name='d_fc_W1')\n",
    "        d_fc_b1 = bias(shape=fc_1_size, layer_name='d_fc_b1')\n",
    "        fc_1 = fully_connected(flattened, d_fc_W1, d_fc_b1, use_relu=True)\n",
    "        # 2nd Fully connected layer\n",
    "        d_fc_W2 = weight(shape=[fc_1_size, fc_2_size], layer_name='d_fc_W2')\n",
    "        d_fc_b2 = bias(shape=fc_2_size, layer_name='d_fc_b2')\n",
    "        fc_2 = fully_connected(fc_1, d_fc_W2, d_fc_b2, use_relu=False)\n",
    "        return fc_2"
   ]
  },
  {
   "cell_type": "markdown",
   "metadata": {},
   "source": [
    "### Generator `(Deep Deconvolutional neural net)`"
   ]
  },
  {
   "cell_type": "code",
   "execution_count": 9,
   "metadata": {},
   "outputs": [],
   "source": [
    "def generator(z, batch_size, z_dim):\n",
    "    scale = img_size * 2\n",
    "    up_scale = scale * scale\n",
    "    # 1st Deconvolutional block\n",
    "    g_deconv_W1 = weight(shape=[z_dim, up_scale], layer_name='g_deconv_W1')\n",
    "    g_deconv_b1 = bias(shape=up_scale, layer_name='g_deconv_b1')\n",
    "    g_deconv_1 = tf.matmul(z, g_deconv_W1) + g_deconv_b1\n",
    "    g_deconv_1 = tf.reshape(g_deconv_1, [-1, scale, scale, img_channel])\n",
    "    g_deconv_1 = tf.contrib.layers.batch_norm(g_deconv_1, epsilon=1e-5, scope='bn_G1')\n",
    "    g_deconv_1 = tf.nn.relu(g_deconv_1)\n",
    "    # 2nd Deconvolutional block\n",
    "    g_deconv_W2 = weight(shape=[deconv_filter, deconv_filter, img_channel, z_dim//2], layer_name='g_deconv_W2')\n",
    "    g_deconv_b2 = bias(shape=z_dim//2, layer_name='g_deconv_b2')\n",
    "    g_deconv_2 = deconv_block(g_deconv_1, g_deconv_W2, g_deconv_b2, batch_norm='bn_G2')\n",
    "    g_deconv_2 = tf.image.resize_images(g_deconv_2, [scale, scale])\n",
    "    # 3rd Deconvolutional block\n",
    "    g_deconv_W3 = weight(shape=[deconv_filter, deconv_filter, z_dim//2, z_dim//4], layer_name='g_deconv_W3')\n",
    "    g_deconv_b3 = bias(shape=z_dim//4, layer_name='g_deconv_b3')\n",
    "    g_deconv_3 = deconv_block(g_deconv_2, g_deconv_W3, g_deconv_b3, batch_norm='bn_G3')\n",
    "    g_deconv_3 = tf.image.resize_images(g_deconv_3, [scale, scale])\n",
    "    # Final Deconvolutional block\n",
    "    g_deconv_W4 = weight(shape=[1, 1, z_dim//4, 1], layer_name='g_deconv_W4')\n",
    "    g_deconv_b4 = bias(shape=1, layer_name='g_deconv_b4')\n",
    "    g_deconv_4 = deconv_block(g_deconv_3, g_deconv_W4, g_deconv_b4, activation_fn=tf.nn.sigmoid)\n",
    "    return g_deconv_4"
   ]
  },
  {
   "cell_type": "code",
   "execution_count": 30,
   "metadata": {},
   "outputs": [
    {
     "data": {
      "text/plain": [
       "array([[0., 0., 0., 0., 1.],\n",
       "       [0., 0., 0., 0., 1.],\n",
       "       [0., 0., 0., 0., 1.]])"
      ]
     },
     "execution_count": 30,
     "metadata": {},
     "output_type": "execute_result"
    }
   ],
   "source": [
    "y_test[:3]"
   ]
  },
  {
   "cell_type": "code",
   "execution_count": 10,
   "metadata": {},
   "outputs": [],
   "source": [
    "# Clear default graph caches and start a new one.\n",
    "tf.reset_default_graph()\n",
    "\n",
    "# Generator network input dimensions.\n",
    "z_dim = 100\n",
    "z_placeholder = tf.placeholder(tf.float32, [None, z_dim])"
   ]
  },
  {
   "cell_type": "code",
   "execution_count": 11,
   "metadata": {},
   "outputs": [],
   "source": [
    "# Pass the placeholder through the generator network.\n",
    "gen_img = generator(z_placeholder, 1, z_dim)\n",
    "\n",
    "# Get one random batch for testing.\n",
    "z_batch = np.random.normal(0, 1, [1, z_dim])"
   ]
  },
  {
   "cell_type": "code",
   "execution_count": 12,
   "metadata": {
    "scrolled": false
   },
   "outputs": [
    {
     "name": "stdout",
     "output_type": "stream",
     "text": [
      "Test image shape = (1, 25, 25, 1)\n"
     ]
    },
    {
     "data": {
      "image/png": "[encoded data removed]",
      "text/plain": [
       "<matplotlib.figure.Figure at 0x11b9e4080>"
      ]
     },
     "metadata": {},
     "output_type": "display_data"
    }
   ],
   "source": [
    "# Initialize model variables.\n",
    "init = tf.global_variables_initializer()    \n",
    "\n",
    "# Start the TensorFlow's Session.\n",
    "with tf.Session() as sess:\n",
    "    sess.run(init)\n",
    "    \n",
    "    # Run the generator.\n",
    "    test_img = sess.run(gen_img, feed_dict={z_placeholder: z_batch})\n",
    "    \n",
    "    print(f'Test image shape = {test_img.shape}')\n",
    "    \n",
    "    plt.title('Test image')\n",
    "    plt.imshow(test_img.reshape([img_size, img_size]), cmap='gray')\n",
    "    plt.show()"
   ]
  },
  {
   "cell_type": "code",
   "execution_count": 13,
   "metadata": {},
   "outputs": [],
   "source": [
    "tf.reset_default_graph()\n",
    "\n",
    "# Placeholder variables.\n",
    "z_placeholder = tf.placeholder(tf.float32, [None, z_dim], name='z_placeholder')\n",
    "X_placeholder = tf.placeholder(tf.float32, [None, img_size_flat], name='X_placeholder')\n",
    "X_image = tf.reshape(X_placeholder, [-1, img_size, img_size, img_channel])\n",
    "\n",
    "# Generator network.\n",
    "Gz = generator(z_placeholder, batch_size, z_dim)\n",
    "\n",
    "## Discriminator network. ##\n",
    "# Prob. for real img:\n",
    "Dx = discriminator(X_image)\n",
    "\n",
    "# Prob. for generated img:\n",
    "Dg = discriminator(Gz, reuse=True)"
   ]
  },
  {
   "cell_type": "markdown",
   "metadata": {},
   "source": [
    "### Loss functions"
   ]
  },
  {
   "cell_type": "code",
   "execution_count": 14,
   "metadata": {},
   "outputs": [],
   "source": [
    "# Discriminator loss\n",
    "d_loss_real = tf.reduce_mean(tf.nn.sigmoid_cross_entropy_with_logits(logits=Dx, labels=tf.ones_like(Dx)))\n",
    "d_loss_fake = tf.reduce_mean(tf.nn.sigmoid_cross_entropy_with_logits(logits=Dg, labels=tf.zeros_like(Dg)))\n",
    "\n",
    "# Generator loss\n",
    "g_loss = tf.reduce_mean(tf.nn.softmax_cross_entropy_with_logits(logits=Dg, labels=tf.ones_like(Dg)))"
   ]
  },
  {
   "cell_type": "markdown",
   "metadata": {},
   "source": [
    "### Retrieve Trainable Vars"
   ]
  },
  {
   "cell_type": "code",
   "execution_count": 17,
   "metadata": {},
   "outputs": [
    {
     "name": "stdout",
     "output_type": "stream",
     "text": [
      "d_conv_W1:0, d_conv_b1:0, d_conv_W2:0, d_conv_b2:0, d_fc_W1:0, d_fc_b1:0, d_fc_W2:0, d_fc_b2:0\n",
      "\n",
      "g_deconv_W1:0, g_deconv_b1:0, g_deconv_W2:0, g_deconv_b2:0, g_deconv_W3:0, g_deconv_b3:0, g_deconv_W4:0, g_deconv_b4:0\n"
     ]
    }
   ],
   "source": [
    "# Get the model trainable variables.\n",
    "t_vars = tf.trainable_variables()\n",
    "\n",
    "# Split the generator and discriminator by name scope.\n",
    "d_vars = [var for var in t_vars if 'd_' in var.name]\n",
    "g_vars = [var for var in t_vars if 'g_' in var.name]\n",
    "\n",
    "print(', '.join([var.name for var in d_vars]), end='\\n\\n')\n",
    "print(', '.join([var.name for var in g_vars]))"
   ]
  },
  {
   "cell_type": "markdown",
   "metadata": {},
   "source": [
    "### Optimization"
   ]
  },
  {
   "cell_type": "code",
   "execution_count": 18,
   "metadata": {},
   "outputs": [],
   "source": [
    "# Discriminator optimization.\n",
    "d_opt_real = tf.train.AdamOptimizer(learning_rate=learning_rate).minimize(d_loss_real, var_list=d_vars)\n",
    "d_opt_fake = tf.train.AdamOptimizer(learning_rate=learning_rate).minimize(d_loss_fake, var_list=d_vars)\n",
    "\n",
    "## Generator optimization. ##\n",
    "\n",
    "# Global step for the generator.\n",
    "g_global_step = tf.Variable(0, trainable=False)\n",
    "\n",
    "# Optimizer for the generator.\n",
    "g_opt = tf.train.AdamOptimizer(learning_rate=learning_rate)\n",
    "\n",
    "# Minimize the loss i.e. train the Generator.\n",
    "g_train = g_opt.minimize(g_loss, var_list=g_vars, global_step=g_global_step)"
   ]
  },
  {
   "cell_type": "markdown",
   "metadata": {},
   "source": [
    "## Tensorboard stuff"
   ]
  },
  {
   "cell_type": "code",
   "execution_count": 20,
   "metadata": {},
   "outputs": [],
   "source": [
    "# Start the TensorFlow's Session.\n",
    "sess = tf.Session()\n",
    "sess.run(tf.global_variables_initializer())\n",
    "\n",
    "# Henceforth, reuse variables\n",
    "tf.get_variable_scope().reuse_variables()\n",
    "\n",
    "# Scalar summaries.\n",
    "tf.summary.scalar('Generator_Loss', g_loss)\n",
    "tf.summary.scalar('Discriminator_Loss_Real', d_loss_real)\n",
    "tf.summary.scalar('Discriminator_Loss_Fake', d_loss_fake)\n",
    "\n",
    "# Image summaries\n",
    "img_4_tensorboard = generator(z_placeholder, batch_size, z_dim)\n",
    "tf.summary.image('Generated_Images', img_4_tensorboard, max_outputs=5)\n",
    "\n",
    "# Merge all summaries.\n",
    "merged = tf.summary.merge_all()\n",
    "\n",
    "# Parent save directory.\n",
    "save_dir = 'saved/learning-gan'\n",
    "\n",
    "# Tensorboard directory.\n",
    "tensorboard_dir = os.path.join(save_dir, 'tensorboard')\n",
    "logdir = os.path.join(tensorboard_dir, 'log')\n",
    "\n",
    "# Model saved directory.\n",
    "model_dir = os.path.join(save_dir, 'models')\n",
    "save_path = os.path.join(model_dir, 'model.ckpt')\n",
    "\n",
    "# Model sver and tensorboard writer object.\n",
    "saver = tf.train.Saver()\n",
    "writer = tf.summary.FileWriter(logdir=logdir, graph=sess.graph)"
   ]
  },
  {
   "cell_type": "code",
   "execution_count": 23,
   "metadata": {},
   "outputs": [
    {
     "name": "stdout",
     "output_type": "stream",
     "text": [
      "INFO: Attempting to load last checkpoint.\n",
      "INFO:tensorflow:Restoring parameters from saved/learning-gan/models/model.ckpt\n"
     ]
    },
    {
     "name": "stderr",
     "output_type": "stream",
     "text": [
      "ERR: Could not load checkpoint. {e}"
     ]
    }
   ],
   "source": [
    "# Restoring TensorFlow's Session.\n",
    "if tf.gfile.Exists(model_dir):\n",
    "    try:\n",
    "        print('INFO: Attempting to load last checkpoint.')\n",
    "        \n",
    "        # Get the last checkpoint.\n",
    "        last_ckpt = tf.train.latest_checkpoint(checkpoint_dir=model_dir)\n",
    "        saver.restore(sess=sess, save_path=last_ckpt)\n",
    "        \n",
    "        print(f'SUCCESS: Successfully restored Session at {last_ckpt}')\n",
    "    except Exception as e:\n",
    "        # Print error message.\n",
    "        sys.stderr.write(f'ERR: Could not load checkpoint. {e}')\n",
    "        sys.stderr.flush()\n",
    "else:\n",
    "    # Create the checkpiont folder.\n",
    "    tf.gfile.MakeDirs(model_dir)\n",
    "\n",
    "    print(f'INFO: Created checkpoint folder: {model_dir}')"
   ]
  },
  {
   "cell_type": "code",
   "execution_count": 25,
   "metadata": {},
   "outputs": [
    {
     "name": "stdout",
     "output_type": "stream",
     "text": [
      "Iterations: 100\td_loss_real: 1610.9664\td_loss_fake: 0.8962\tTraining: 0:00:15.216899 ago"
     ]
    }
   ],
   "source": [
    "# Start the training time.\n",
    "train_start = dt.datetime.now()\n",
    "\n",
    "# Pre-train discriminator.\n",
    "for t in range(100):\n",
    "    try:\n",
    "        # Load real image batch.\n",
    "        real_img_batch = data.next_batch(batch_size)[0]\n",
    "        \n",
    "        # Load fake image batch.\n",
    "        fake_img_batch = np.random.normal(0, 1, [batch_size, z_dim])\n",
    "\n",
    "        # Discriminator's feed dict.\n",
    "        feed_dict = {X_placeholder: real_img_batch, z_placeholder: fake_img_batch}\n",
    "        \n",
    "        # Load real image batch.\n",
    "        real_img_batch = data.next_batch(batch_size)[0]\n",
    "\n",
    "        # Train the discriminator: to classifiy real from fake.\n",
    "        _, _, _d_real, _d_fake = sess.run([d_opt_fake, d_opt_real, d_loss_real, d_loss_fake], \n",
    "                                          feed_dict=feed_dict)\n",
    "        \n",
    "        # Log progress!\n",
    "        sys.stdout.write(f'\\rIterations: {t+1:,}\\td_loss_real: {_d_real:.4f}\\td_loss_fake: {_d_fake:.4f}'\n",
    "                         f'\\tTraining: {dt.datetime.now() - train_start:}')\n",
    "        \n",
    "    except KeyboardInterrupt:\n",
    "        print('Training stopped.')\n",
    "        \n",
    "        # Save the session.\n",
    "        saver.save(sess=sess, save_path=save_path)\n",
    "\n",
    "        print('Session saved!')\n",
    "        \n",
    "        break"
   ]
  },
  {
   "cell_type": "code",
   "execution_count": 27,
   "metadata": {
    "scrolled": false
   },
   "outputs": [
    {
     "name": "stdout",
     "output_type": "stream",
     "text": [
      "\n",
      "\tIterations: 1 at Thu Mar 22, 2018 at 18:50:06 PM\n"
     ]
    },
    {
     "data": {
      "image/png": "[encoded data removed]",
      "text/plain": [
       "<matplotlib.figure.Figure at 0x115e39a58>"
      ]
     },
     "metadata": {},
     "output_type": "display_data"
    },
    {
     "name": "stdout",
     "output_type": "stream",
     "text": [
      "Discriminator's estimate = [[-13.60187]]\n",
      "\n",
      "Iter: 19\tTrain time: 0:00:10.226982\td_loss_fake: 0.0000\td_loss_real: 0.0000\tg_loss: 0.0000Training iterrupted!\n",
      "\n",
      "TRAINING SUMMARY:\n",
      "\tIterations: 20\tTraining time: 0:00:10.464262\n",
      "\td_loss_fake: 0.0000\td_loss_real: 0.0000\tg_loss: 0.0000\n",
      "\n"
     ]
    },
    {
     "data": {
      "image/png": "[encoded data removed]",
      "text/plain": [
       "<matplotlib.figure.Figure at 0x11ed7b668>"
      ]
     },
     "metadata": {},
     "output_type": "display_data"
    },
    {
     "name": "stdout",
     "output_type": "stream",
     "text": [
      "Discriminator's estimate = [[-13.455461]]\n",
      "\n"
     ]
    }
   ],
   "source": [
    "# Start the discriminator and generator training clock.\n",
    "train_start = dt.datetime.now()\n",
    "\n",
    "\n",
    "# Generator's feed dict. Z is drawn from a normal distribution.\n",
    "# Usage: g_feed_dict(batch_size) or g_feed_dict(batch_size, z_dim) or g_feed_dict(1)\n",
    "g_feed_dict = lambda x, y=z_dim: {z_placeholder: np.random.normal(0, 1, size=[x, y])}\n",
    "\n",
    "\n",
    "# Train generator & discriminator together (dual each other).\n",
    "for t in range(iterations):\n",
    "    try:\n",
    "        \n",
    "        # Load real image batch.\n",
    "        real_img_batch = data.next_batch(batch_size)[0]\n",
    "        \n",
    "        # Load fake image batch.\n",
    "        fake_img_batch = np.random.normal(0, 1, [batch_size, z_dim])\n",
    "        \n",
    "        # Discriminator's feed dict.\n",
    "        feed_dict = {X_placeholder: real_img_batch, z_placeholder: fake_img_batch}\n",
    "        \n",
    "        # Train the discriminator.\n",
    "        _, _, _d_real, _d_fake = sess.run([d_opt_fake, d_opt_real, d_loss_real, d_loss_fake], \n",
    "                                          feed_dict=feed_dict)\n",
    "        \n",
    "        # Train the generator.\n",
    "        _, _gen_loss, _g_global = sess.run([g_train, g_loss, g_global_step], \n",
    "                                           feed_dict=g_feed_dict(batch_size))\n",
    "        \n",
    "        # Save model and Update tensorboard at intervals.\n",
    "        if t % save_interval == 0:\n",
    "            # Save model chkpt.\n",
    "            saver.save(sess=sess, save_path=save_path, global_step=g_global_step)\n",
    "            \n",
    "            # Update tensorboard summary.\n",
    "            summary = sess.run(merged, feed_dict=feed_dict)\n",
    "            writer.add_summary(summary=summary, global_step=_g_global)\n",
    "        \n",
    "        # Visualize generators progress at intervals.\n",
    "        if t % viz_interval == 0:\n",
    "            # Every 1000 iterations, show a generated image\n",
    "            print(f\"\\n\\tIterations: {t+1:,} at {dt.datetime.now():%a %h %d, %Y at %H:%M:%S %p}\")\n",
    "            \n",
    "            # Pass random image to the generator to do it's thing:\n",
    "            gen_imgs = generator(z_placeholder, 1, z_dim)\n",
    "            \n",
    "            # Generate images.\n",
    "            images = sess.run(gen_imgs, feed_dict=g_feed_dict(1, z_dim))\n",
    "            \n",
    "            # Plot the generated image.\n",
    "            plt.imshow(images[0].reshape([img_size, img_size]), cmap='Greys')\n",
    "            plt.title(\"Generator's progress.\")\n",
    "            plt.show()\n",
    "            \n",
    "            # Show discriminator's estimate.\n",
    "            result = discriminator(tf.reshape(X_placeholder, [-1, img_size, img_size, img_channel]))\n",
    "            img = np.reshape(images[0], newshape=[-1, img_size_flat])\n",
    "            estimate = sess.run(result, feed_dict={X_placeholder: img})\n",
    "            \n",
    "            print(f\"Discriminator's estimate = {estimate}\\n\")\n",
    "        \n",
    "        # Log training progress.\n",
    "        sys.stdout.write(f'\\rIter: {t+1:,}\\tTrain time: {dt.datetime.now() - train_start:}'\n",
    "                         f'\\td_loss_fake: {_d_fake:.4f}\\td_loss_real: {_d_real:.4f}\\tg_loss: {_gen_loss:.4f}')\n",
    "    \n",
    "    # When training is stopped by user.\n",
    "    except KeyboardInterrupt:\n",
    "        print('\\n\\nTraining iterrupted!\\n\\nTRAINING SUMMARY:')\n",
    "        print(f'\\tIterations: {t+1:,}\\tGlobal: {_g_global:,}\\n'\n",
    "              f'\\tTraining time: {dt.datetime.now() - train_start:}\\n'\n",
    "              f'\\td_loss_fake: {_d_fake:.4f}\\td_loss_real: {_d_real:.4f}'\n",
    "              f'\\tg_loss: {_gen_loss:.4f}\\n')\n",
    "        \n",
    "        # Visualize summary.\n",
    "        # Pass random image to the generator to do it's thing:\n",
    "        gen_imgs = generator(z_placeholder, 1, z_dim)\n",
    "        \n",
    "        # Generate new images.\n",
    "        images = sess.run(gen_imgs, g_feed_dict(1, z_dim))\n",
    "        \n",
    "        # Plot a generated image.\n",
    "        plt.imshow(images[0].reshape([img_size, img_size]), cmap='Greys')\n",
    "        plt.title(\"Generator's progress.\")\n",
    "        plt.show()\n",
    "        \n",
    "        # Show discriminator's estimate.\n",
    "        result = discriminator(tf.reshape(X_placeholder, [-1, img_size, img_size, img_channel]))\n",
    "        estimate = sess.run(result, {X_placeholder: np.reshape(images[0], [-1, img_size_flat])})\n",
    "\n",
    "        print(f\"Discriminator's estimate = {estimate}\\n\")\n",
    "        \n",
    "        # Save model chkpt.\n",
    "        saver.save(sess=sess, save_path=save_path, global_step=g_global_step)\n",
    "\n",
    "        # Update tensorboard summary.\n",
    "        summary = sess.run(merged, feed_dict=feed_dict)\n",
    "        writer.add_summary(summary=summary, global_step=_g_global)\n",
    "        \n",
    "        # End training iteration.\n",
    "        break\n",
    "        \n",
    "    finally:\n",
    "        # Flush the standard output buffer.\n",
    "        sys.stdout.flush()"
   ]
  },
  {
   "cell_type": "code",
   "execution_count": null,
   "metadata": {},
   "outputs": [],
   "source": []
  }
 ],
 "metadata": {
  "kernelspec": {
   "display_name": "Python 3",
   "language": "python",
   "name": "python3"
  },
  "language_info": {
   "codemirror_mode": {
    "name": "ipython",
    "version": 3
   },
   "file_extension": ".py",
   "mimetype": "text/x-python",
   "name": "python",
   "nbconvert_exporter": "python",
   "pygments_lexer": "ipython3",
   "version": "3.6.5"
  }
 },
 "nbformat": 4,
 "nbformat_minor": 2
}
